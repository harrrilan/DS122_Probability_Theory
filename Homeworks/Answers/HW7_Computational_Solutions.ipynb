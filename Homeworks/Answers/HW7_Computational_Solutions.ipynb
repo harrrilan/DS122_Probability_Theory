{
 "cells": [
  {
   "cell_type": "markdown",
   "id": "e3dda9d0-a389-41c2-8b82-6c904872eb38",
   "metadata": {},
   "source": [
    "# Question 8 : \"THE LEAGUE\" (16 points)"
   ]
  },
  {
   "cell_type": "markdown",
   "id": "f590744a-0cd2-4096-bb7e-86266cf16cba",
   "metadata": {},
   "source": [
    "### Description\n",
    "\n",
    "In this football problem, you will work like a data scientist and use real world data to perform a Bayesian Update on the distribution of the Goal Scoring Rate for two teams, Manchester United and Liverpool. \n"
   ]
  },
  {
   "cell_type": "markdown",
   "id": "c8236d1d",
   "metadata": {},
   "source": [
    "### Questions \n",
    "\n",
    "a. Import the necessary libraries, read the \"league_tables.csv\" file, and remove rows that are not Liverpool or Manchester United. (2 points)\n",
    "\n",
    "b. Create two separate dataframes for the two teams and calculate the average goal scoring rate (sum of GF / sum of MP) for each team. (3 points)\n",
    "\n",
    "c. Fit the gamma distribution for both teams. (2 points)\n",
    "\n",
    "d. (Given the Poisson likelihood function and update function from the textbook) : Find the updated distribution for Liverpool and Manchester United. For each, also graph the Prior and Posterior distributions in the same plot. (6 points)\n",
    "\n",
    "e. Suppose Manchester and Liverpool play each other and the resulting score is 3 (Manchester) - 2 (Liverpool). How certain are we that Manchester is the better team? \n"
   ]
  },
  {
   "cell_type": "markdown",
   "id": "114bc6c6",
   "metadata": {},
   "source": [
    "### Part a "
   ]
  },
  {
   "cell_type": "code",
   "execution_count": 1,
   "id": "241e22db-96f4-470d-82d9-597b2892680a",
   "metadata": {},
   "outputs": [],
   "source": [
    "#importing libraries\n",
    "import pandas as pd\n",
    "from scipy.stats import poisson\n",
    "from scipy.stats import gamma\n",
    "import numpy as np\n",
    "import matplotlib.pyplot as plt"
   ]
  },
  {
   "cell_type": "code",
   "execution_count": 2,
   "id": "df743865-c0b1-4108-b972-1714183751c8",
   "metadata": {},
   "outputs": [
    {
     "data": {
      "text/html": [
       "<div>\n",
       "<style scoped>\n",
       "    .dataframe tbody tr th:only-of-type {\n",
       "        vertical-align: middle;\n",
       "    }\n",
       "\n",
       "    .dataframe tbody tr th {\n",
       "        vertical-align: top;\n",
       "    }\n",
       "\n",
       "    .dataframe thead th {\n",
       "        text-align: right;\n",
       "    }\n",
       "</style>\n",
       "<table border=\"1\" class=\"dataframe\">\n",
       "  <thead>\n",
       "    <tr style=\"text-align: right;\">\n",
       "      <th></th>\n",
       "      <th>Season_End_Year</th>\n",
       "      <th>Team</th>\n",
       "      <th>Rk</th>\n",
       "      <th>MP</th>\n",
       "      <th>W</th>\n",
       "      <th>D</th>\n",
       "      <th>L</th>\n",
       "      <th>GF</th>\n",
       "      <th>GA</th>\n",
       "      <th>GD</th>\n",
       "      <th>Pts</th>\n",
       "      <th>Notes</th>\n",
       "    </tr>\n",
       "  </thead>\n",
       "  <tbody>\n",
       "    <tr>\n",
       "      <th>0</th>\n",
       "      <td>1993</td>\n",
       "      <td>Arsenal</td>\n",
       "      <td>10</td>\n",
       "      <td>42</td>\n",
       "      <td>15</td>\n",
       "      <td>11</td>\n",
       "      <td>16</td>\n",
       "      <td>40</td>\n",
       "      <td>38</td>\n",
       "      <td>2</td>\n",
       "      <td>56</td>\n",
       "      <td>→ European Cup Winners' Cup via cup win 2</td>\n",
       "    </tr>\n",
       "    <tr>\n",
       "      <th>1</th>\n",
       "      <td>1993</td>\n",
       "      <td>Aston Villa</td>\n",
       "      <td>2</td>\n",
       "      <td>42</td>\n",
       "      <td>21</td>\n",
       "      <td>11</td>\n",
       "      <td>10</td>\n",
       "      <td>57</td>\n",
       "      <td>40</td>\n",
       "      <td>17</td>\n",
       "      <td>74</td>\n",
       "      <td>→ UEFA Cup via league finish</td>\n",
       "    </tr>\n",
       "    <tr>\n",
       "      <th>2</th>\n",
       "      <td>1993</td>\n",
       "      <td>Blackburn</td>\n",
       "      <td>4</td>\n",
       "      <td>42</td>\n",
       "      <td>20</td>\n",
       "      <td>11</td>\n",
       "      <td>11</td>\n",
       "      <td>68</td>\n",
       "      <td>46</td>\n",
       "      <td>22</td>\n",
       "      <td>71</td>\n",
       "      <td>NaN</td>\n",
       "    </tr>\n",
       "    <tr>\n",
       "      <th>3</th>\n",
       "      <td>1993</td>\n",
       "      <td>Chelsea</td>\n",
       "      <td>11</td>\n",
       "      <td>42</td>\n",
       "      <td>14</td>\n",
       "      <td>14</td>\n",
       "      <td>14</td>\n",
       "      <td>51</td>\n",
       "      <td>54</td>\n",
       "      <td>-3</td>\n",
       "      <td>56</td>\n",
       "      <td>NaN</td>\n",
       "    </tr>\n",
       "    <tr>\n",
       "      <th>4</th>\n",
       "      <td>1993</td>\n",
       "      <td>Coventry City</td>\n",
       "      <td>15</td>\n",
       "      <td>42</td>\n",
       "      <td>13</td>\n",
       "      <td>13</td>\n",
       "      <td>16</td>\n",
       "      <td>52</td>\n",
       "      <td>57</td>\n",
       "      <td>-5</td>\n",
       "      <td>52</td>\n",
       "      <td>NaN</td>\n",
       "    </tr>\n",
       "  </tbody>\n",
       "</table>\n",
       "</div>"
      ],
      "text/plain": [
       "   Season_End_Year           Team  Rk  MP   W   D   L  GF  GA  GD  Pts  \\\n",
       "0             1993        Arsenal  10  42  15  11  16  40  38   2   56   \n",
       "1             1993    Aston Villa   2  42  21  11  10  57  40  17   74   \n",
       "2             1993      Blackburn   4  42  20  11  11  68  46  22   71   \n",
       "3             1993        Chelsea  11  42  14  14  14  51  54  -3   56   \n",
       "4             1993  Coventry City  15  42  13  13  16  52  57  -5   52   \n",
       "\n",
       "                                       Notes  \n",
       "0  → European Cup Winners' Cup via cup win 2  \n",
       "1               → UEFA Cup via league finish  \n",
       "2                                        NaN  \n",
       "3                                        NaN  \n",
       "4                                        NaN  "
      ]
     },
     "execution_count": 2,
     "metadata": {},
     "output_type": "execute_result"
    }
   ],
   "source": [
    "df = pd.read_csv('league_tables.csv')\n",
    "df.head()"
   ]
  },
  {
   "cell_type": "code",
   "execution_count": 3,
   "id": "6776f2f0-c88f-42f7-ae96-edb3669b463d",
   "metadata": {},
   "outputs": [],
   "source": [
    "df = df[df['Team'].isin(['Liverpool', 'Manchester Utd'])]"
   ]
  },
  {
   "cell_type": "code",
   "execution_count": 4,
   "id": "a2ceebca-af90-42c1-ab67-268e0de572e9",
   "metadata": {
    "scrolled": true
   },
   "outputs": [
    {
     "data": {
      "text/html": [
       "<div>\n",
       "<style scoped>\n",
       "    .dataframe tbody tr th:only-of-type {\n",
       "        vertical-align: middle;\n",
       "    }\n",
       "\n",
       "    .dataframe tbody tr th {\n",
       "        vertical-align: top;\n",
       "    }\n",
       "\n",
       "    .dataframe thead th {\n",
       "        text-align: right;\n",
       "    }\n",
       "</style>\n",
       "<table border=\"1\" class=\"dataframe\">\n",
       "  <thead>\n",
       "    <tr style=\"text-align: right;\">\n",
       "      <th></th>\n",
       "      <th>Season_End_Year</th>\n",
       "      <th>Team</th>\n",
       "      <th>Rk</th>\n",
       "      <th>MP</th>\n",
       "      <th>W</th>\n",
       "      <th>D</th>\n",
       "      <th>L</th>\n",
       "      <th>GF</th>\n",
       "      <th>GA</th>\n",
       "      <th>GD</th>\n",
       "      <th>Pts</th>\n",
       "      <th>Notes</th>\n",
       "    </tr>\n",
       "  </thead>\n",
       "  <tbody>\n",
       "    <tr>\n",
       "      <th>9</th>\n",
       "      <td>1993</td>\n",
       "      <td>Liverpool</td>\n",
       "      <td>6</td>\n",
       "      <td>42</td>\n",
       "      <td>16</td>\n",
       "      <td>11</td>\n",
       "      <td>15</td>\n",
       "      <td>62</td>\n",
       "      <td>55</td>\n",
       "      <td>7</td>\n",
       "      <td>59</td>\n",
       "      <td>NaN</td>\n",
       "    </tr>\n",
       "    <tr>\n",
       "      <th>11</th>\n",
       "      <td>1993</td>\n",
       "      <td>Manchester Utd</td>\n",
       "      <td>1</td>\n",
       "      <td>42</td>\n",
       "      <td>24</td>\n",
       "      <td>12</td>\n",
       "      <td>6</td>\n",
       "      <td>67</td>\n",
       "      <td>31</td>\n",
       "      <td>36</td>\n",
       "      <td>84</td>\n",
       "      <td>→ Champions League via league finish</td>\n",
       "    </tr>\n",
       "    <tr>\n",
       "      <th>30</th>\n",
       "      <td>1994</td>\n",
       "      <td>Liverpool</td>\n",
       "      <td>8</td>\n",
       "      <td>42</td>\n",
       "      <td>17</td>\n",
       "      <td>9</td>\n",
       "      <td>16</td>\n",
       "      <td>59</td>\n",
       "      <td>55</td>\n",
       "      <td>4</td>\n",
       "      <td>60</td>\n",
       "      <td>NaN</td>\n",
       "    </tr>\n",
       "    <tr>\n",
       "      <th>32</th>\n",
       "      <td>1994</td>\n",
       "      <td>Manchester Utd</td>\n",
       "      <td>1</td>\n",
       "      <td>42</td>\n",
       "      <td>27</td>\n",
       "      <td>11</td>\n",
       "      <td>4</td>\n",
       "      <td>80</td>\n",
       "      <td>38</td>\n",
       "      <td>42</td>\n",
       "      <td>92</td>\n",
       "      <td>→ Champions League via league finish</td>\n",
       "    </tr>\n",
       "    <tr>\n",
       "      <th>54</th>\n",
       "      <td>1995</td>\n",
       "      <td>Liverpool</td>\n",
       "      <td>4</td>\n",
       "      <td>42</td>\n",
       "      <td>21</td>\n",
       "      <td>11</td>\n",
       "      <td>10</td>\n",
       "      <td>65</td>\n",
       "      <td>37</td>\n",
       "      <td>28</td>\n",
       "      <td>74</td>\n",
       "      <td>→ UEFA Cup via league finish</td>\n",
       "    </tr>\n",
       "  </tbody>\n",
       "</table>\n",
       "</div>"
      ],
      "text/plain": [
       "    Season_End_Year            Team  Rk  MP   W   D   L  GF  GA  GD  Pts  \\\n",
       "9              1993       Liverpool   6  42  16  11  15  62  55   7   59   \n",
       "11             1993  Manchester Utd   1  42  24  12   6  67  31  36   84   \n",
       "30             1994       Liverpool   8  42  17   9  16  59  55   4   60   \n",
       "32             1994  Manchester Utd   1  42  27  11   4  80  38  42   92   \n",
       "54             1995       Liverpool   4  42  21  11  10  65  37  28   74   \n",
       "\n",
       "                                   Notes  \n",
       "9                                    NaN  \n",
       "11  → Champions League via league finish  \n",
       "30                                   NaN  \n",
       "32  → Champions League via league finish  \n",
       "54          → UEFA Cup via league finish  "
      ]
     },
     "execution_count": 4,
     "metadata": {},
     "output_type": "execute_result"
    }
   ],
   "source": [
    "df.head()"
   ]
  },
  {
   "cell_type": "markdown",
   "id": "1826bd3f",
   "metadata": {},
   "source": [
    "### Part b"
   ]
  },
  {
   "cell_type": "markdown",
   "id": "2b7bdfcf-44b3-46b1-b40c-3a9f65870356",
   "metadata": {},
   "source": [
    "Here are two dataframes contain the values for Liverpool and Man Utd only for easier calculations."
   ]
  },
  {
   "cell_type": "code",
   "execution_count": 5,
   "id": "12e0e4cd-0278-4a87-9514-fa7ae372aa2b",
   "metadata": {},
   "outputs": [],
   "source": [
    "liverpool = df[df['Team'].isin(['Liverpool'])]\n",
    "man_utd = df[df['Team'].isin(['Manchester Utd'])]"
   ]
  },
  {
   "cell_type": "code",
   "execution_count": 6,
   "id": "c4898d75-59db-437f-ac2c-901b68028ab4",
   "metadata": {},
   "outputs": [],
   "source": [
    "#average goal-scoring rate for Liverpool\n",
    "liv_avg = liverpool[\"GF\"].sum() / liverpool[\"MP\"].sum()"
   ]
  },
  {
   "cell_type": "code",
   "execution_count": 7,
   "id": "3f589bf0-a4a7-40f8-b222-cf562f2d98f2",
   "metadata": {},
   "outputs": [],
   "source": [
    "#average goal-scoring rate for Manchester United\n",
    "man_avg = man_utd[\"GF\"].sum() / man_utd[\"MP\"].sum()"
   ]
  },
  {
   "cell_type": "markdown",
   "id": "bb0d52d6-6404-42bc-88fa-55994eb17b87",
   "metadata": {},
   "source": [
    "### Part c"
   ]
  },
  {
   "cell_type": "code",
   "execution_count": 8,
   "id": "73acdbe0-5cf5-44df-a384-0e5152f9946c",
   "metadata": {},
   "outputs": [],
   "source": [
    "liv_gamma = [gamma.pdf(lam, liv_avg) for lam in np.arange(0, 10, .1)]\n",
    "man_gamma = [gamma.pdf(lam, man_avg) for lam in np.arange(0, 10, .1)]\n"
   ]
  },
  {
   "cell_type": "markdown",
   "id": "d8e67d44-139c-424e-b577-5383536e0ce8",
   "metadata": {},
   "source": [
    "### Functions"
   ]
  },
  {
   "cell_type": "code",
   "execution_count": 9,
   "id": "b9977e53-47f9-439c-81f5-b34902252aab",
   "metadata": {},
   "outputs": [],
   "source": [
    "def likelihood_poisson(lam, data):\n",
    "    '''Returns the likelihood of seeing a k goals for goal scoring rate lambda'''\n",
    "    return [poisson.pmf(data, l)  for l in lam]\n",
    "\n",
    "def update(distribution, likelihood):\n",
    "    '''our standard Bayesian update function'''\n",
    "    distribution['probs'] = distribution['probs'] * likelihood\n",
    "    prob_data = distribution['probs'].sum()\n",
    "    distribution['probs'] = distribution['probs'] / prob_data\n",
    "    return distribution"
   ]
  },
  {
   "cell_type": "markdown",
   "id": "977a695f-5807-4fe4-b3aa-d4f60d696c37",
   "metadata": {},
   "source": [
    "### Part d"
   ]
  },
  {
   "cell_type": "code",
   "execution_count": 10,
   "id": "edb98a14-3866-45eb-bdcd-9d2af198ff7e",
   "metadata": {},
   "outputs": [
    {
     "data": {
      "image/png": "[encoded data removed]",
      "text/plain": [
       "<Figure size 432x288 with 1 Axes>"
      ]
     },
     "metadata": {
      "needs_background": "light"
     },
     "output_type": "display_data"
    }
   ],
   "source": [
    "prior = pd.DataFrame({'lams':np.arange(0, 10, .1),'probs':liv_gamma/sum(liv_gamma)})\n",
    "liv = prior.copy()\n",
    "update(liv, likelihood_poisson(liv['lams'], 7));\n",
    "\n",
    "\n",
    "plt.plot(prior['lams'], prior['probs'], color=\"gray\")\n",
    "plt.plot(liv['lams'], liv['probs'], color=\"red\")\n",
    "plt.legend(['Prior', 'Liverpool Posterior'], fontsize = 14, loc = 'best')\n",
    "plt.xlabel('Goal Scoring Rate $\\lambda$', size = 16)\n",
    "plt.ylabel('Probability', size = 16);"
   ]
  },
  {
   "cell_type": "code",
   "execution_count": 11,
   "id": "410095f1-e370-498f-87b2-e147ac1a6d9d",
   "metadata": {},
   "outputs": [
    {
     "data": {
      "image/png": "[encoded data removed]",
      "text/plain": [
       "<Figure size 432x288 with 1 Axes>"
      ]
     },
     "metadata": {
      "needs_background": "light"
     },
     "output_type": "display_data"
    }
   ],
   "source": [
    "prior = pd.DataFrame({'lams':np.arange(0, 10, .1),'probs':man_gamma/sum(man_gamma)})\n",
    "man = prior.copy()\n",
    "update(man, likelihood_poisson(man['lams'], 0))\n",
    "\n",
    "plt.plot(prior['lams'], prior['probs'], color=\"gray\")\n",
    "plt.plot(man['lams'], man['probs'], color=\"blue\")\n",
    "plt.legend(['Prior', 'Manchester Posterior'], fontsize = 14, loc = 'best')\n",
    "plt.xlabel('Goal Scoring Rate $\\lambda$', size = 16)\n",
    "plt.ylabel('Probability', size = 16);"
   ]
  },
  {
   "cell_type": "markdown",
   "id": "7744d82e",
   "metadata": {},
   "source": [
    "### Part e"
   ]
  },
  {
   "cell_type": "markdown",
   "id": "ef8eb266",
   "metadata": {},
   "source": [
    "We want to use the probability of superiority to see if a random value from Manchester's posterior distribution is higher than a random value of Liverpool's posterior distribution. "
   ]
  },
  {
   "cell_type": "code",
   "execution_count": 12,
   "id": "ec345419",
   "metadata": {},
   "outputs": [
    {
     "data": {
      "text/plain": [
       "0.010030216880671817"
      ]
     },
     "execution_count": 12,
     "metadata": {},
     "output_type": "execute_result"
    }
   ],
   "source": [
    "def prob_of_s(dist1, dist2):\n",
    "    total = 0\n",
    "    for index1, row1 in dist1.iterrows():\n",
    "        for index2, row2 in dist2.iterrows():\n",
    "            if row1['lams'] > row2['lams']:\n",
    "                total += row1['probs'] * row2['probs']\n",
    "    return total\n",
    "prob_of_s(man, liv)"
   ]
  },
  {
   "cell_type": "code",
   "execution_count": null,
   "id": "27810f55",
   "metadata": {},
   "outputs": [],
   "source": []
  }
 ],
 "metadata": {
  "kernelspec": {
   "display_name": "Python 3 (ipykernel)",
   "language": "python",
   "name": "python3"
  },
  "language_info": {
   "codemirror_mode": {
    "name": "ipython",
    "version": 3
   },
   "file_extension": ".py",
   "mimetype": "text/x-python",
   "name": "python",
   "nbconvert_exporter": "python",
   "pygments_lexer": "ipython3",
   "version": "3.9.12"
  }
 },
 "nbformat": 4,
 "nbformat_minor": 5
}
