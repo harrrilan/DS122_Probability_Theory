{
 "cells": [
  {
   "cell_type": "markdown",
   "metadata": {
    "id": "fNQ9mYtCb3yM"
   },
   "source": [
    "----------------------------------------------------------------------------\n",
    "# **Question 8:  PLANT-DAMAGE STUDY (6 points)**\n",
    "----------------------------------------------------------------------------\n",
    "\n",
    "## Description\n",
    "\n",
    "You have been hired as a data analyst by a tree nursery. One of the projects you have been put on aims to investigate the vulnerability of the plants to potential calamities. For example, you need to find the probability of the plants being damaged if there is a regional drought of a certain degree or if there is a pipe breakage in the supply system. \n",
    "\n",
    "Fortunately, you have been provided data from which you can derive the desired probabilities. The data is stored in a csv file called _tree_nursery.csv_. Its first column contains possible events that can happen in a given year. You can assume that these events are _mutually exclusive_ (or disjoint) and _collectively exhaustive_ (i.e., no other events can occur). The second column is based on historical data. It provides the number of years that each of the events had occured over the last 30 years. Finally, the third column is constructed for you by highly experienced arborists and stores the probability that each of the events leads to damage. \n",
    "\n",
    "Import numpy and pandas libraries, no additional libraries are allowed. Load the data and use it to answer each of the questions below. For each computational question you need to either print your answer or give precise instructions where the answer is located. You need to provide a complete and well-documented code (i.e., your results need to be reproducible and the code needs to be accompanied by explanatory notes) in order to receive full credit for this problem."
   ]
  },
  {
   "cell_type": "markdown",
   "metadata": {},
   "source": [
    "## Questions\n",
    "\n",
    "a. (2 points) What is the probability of occurance of each of the events based on the historical data?\n",
    "\n",
    "b. (2 points) What is the total probability of plants being damaged in a given year?\n",
    "\n",
    "c. (1 point) What theorem/property did you use to answer question b? Did you use any assumptions for this theorem/property? \n",
    "Note: to answer the first part of this question you can simply state the name of the theorem/property.\n",
    "\n",
    "d. (1 point) Which of the following actions should be prioritized by the tree nursery? Justify your answer.\n",
    "1. Improving the maintenance of the pipes in the supply system.\n",
    "2. Further automating the operation to prevent human errors.\n",
    "3. Improving safety protocols to prevent fire.\n"
   ]
  },
  {
   "cell_type": "markdown",
   "metadata": {
    "id": "5nFy-Lkmb3yR"
   },
   "source": [
    "## **Your code**"
   ]
  },
  {
   "cell_type": "markdown",
   "metadata": {},
   "source": [
    "### Preliminaries"
   ]
  },
  {
   "cell_type": "code",
   "execution_count": null,
   "metadata": {
    "ExecuteTime": {
     "end_time": "2020-05-12T08:39:10.385004Z",
     "start_time": "2020-05-12T08:39:07.270284Z"
    },
    "id": "MyVUpMAeb3yS"
   },
   "outputs": [],
   "source": [
    "# Import the packages\n",
    "import pandas as pd  \n",
    "import numpy as np "
   ]
  },
  {
   "cell_type": "markdown",
   "metadata": {},
   "source": [
    "### Part a"
   ]
  },
  {
   "cell_type": "code",
   "execution_count": 1,
   "metadata": {
    "ExecuteTime": {
     "end_time": "2020-05-12T08:39:10.385004Z",
     "start_time": "2020-05-12T08:39:07.270284Z"
    },
    "id": "MyVUpMAeb3yS"
   },
   "outputs": [
    {
     "name": "stdout",
     "output_type": "stream",
     "text": [
      "(11, 3)\n",
      "                        Event  Years occured  Damage probability\n",
      "0   Regional drought degree 1              1                0.20\n",
      "1   Regional drought degree 2              1                0.45\n",
      "2   Regional drought degree 3              0                0.65\n",
      "3   Regional drought degree 4              0                0.75\n",
      "4               Pipe breakage              3                0.55\n",
      "5                 Human error              1                0.90\n",
      "6                   Pollution              1                0.70\n",
      "7                      Plague              2                0.80\n",
      "8               Fire degree 1              1                0.80\n",
      "9               Fire degree 2              0                0.95\n",
      "10                  No events             20                0.00\n"
     ]
    }
   ],
   "source": [
    "# Load the dataset and perform the analysis\n",
    "data = pd.read_csv('tree_nursery.csv')\n",
    "print(data.shape)\n",
    "print(data.head(11))\n",
    "\n",
    "# Copy the dataset to avoid any changes to the original data\n",
    "df = data.copy()"
   ]
  },
  {
   "cell_type": "markdown",
   "metadata": {
    "ExecuteTime": {
     "end_time": "2020-05-12T08:39:10.385004Z",
     "start_time": "2020-05-12T08:39:07.270284Z"
    },
    "id": "MyVUpMAeb3yS"
   },
   "source": [
    "### Part b\n",
    "We are going to create a new column that will store the desired occurance probabilities. The column will be named _Event probability_. To compute its entries we will divide the entries in column _Years occured_ by the total number of years, which can be found as the sum over all entries in _Years occured_.  "
   ]
  },
  {
   "cell_type": "code",
   "execution_count": 2,
   "metadata": {
    "ExecuteTime": {
     "end_time": "2020-05-12T08:39:10.385004Z",
     "start_time": "2020-05-12T08:39:07.270284Z"
    },
    "id": "MyVUpMAeb3yS"
   },
   "outputs": [
    {
     "data": {
      "text/html": [
       "<div>\n",
       "<style scoped>\n",
       "    .dataframe tbody tr th:only-of-type {\n",
       "        vertical-align: middle;\n",
       "    }\n",
       "\n",
       "    .dataframe tbody tr th {\n",
       "        vertical-align: top;\n",
       "    }\n",
       "\n",
       "    .dataframe thead th {\n",
       "        text-align: right;\n",
       "    }\n",
       "</style>\n",
       "<table border=\"1\" class=\"dataframe\">\n",
       "  <thead>\n",
       "    <tr style=\"text-align: right;\">\n",
       "      <th></th>\n",
       "      <th>Event</th>\n",
       "      <th>Years occured</th>\n",
       "      <th>Damage probability</th>\n",
       "      <th>Event probability</th>\n",
       "    </tr>\n",
       "  </thead>\n",
       "  <tbody>\n",
       "    <tr>\n",
       "      <th>0</th>\n",
       "      <td>Regional drought degree 1</td>\n",
       "      <td>1</td>\n",
       "      <td>0.20</td>\n",
       "      <td>0.033333</td>\n",
       "    </tr>\n",
       "    <tr>\n",
       "      <th>1</th>\n",
       "      <td>Regional drought degree 2</td>\n",
       "      <td>1</td>\n",
       "      <td>0.45</td>\n",
       "      <td>0.033333</td>\n",
       "    </tr>\n",
       "    <tr>\n",
       "      <th>2</th>\n",
       "      <td>Regional drought degree 3</td>\n",
       "      <td>0</td>\n",
       "      <td>0.65</td>\n",
       "      <td>0.000000</td>\n",
       "    </tr>\n",
       "    <tr>\n",
       "      <th>3</th>\n",
       "      <td>Regional drought degree 4</td>\n",
       "      <td>0</td>\n",
       "      <td>0.75</td>\n",
       "      <td>0.000000</td>\n",
       "    </tr>\n",
       "    <tr>\n",
       "      <th>4</th>\n",
       "      <td>Pipe breakage</td>\n",
       "      <td>3</td>\n",
       "      <td>0.55</td>\n",
       "      <td>0.100000</td>\n",
       "    </tr>\n",
       "    <tr>\n",
       "      <th>5</th>\n",
       "      <td>Human error</td>\n",
       "      <td>1</td>\n",
       "      <td>0.90</td>\n",
       "      <td>0.033333</td>\n",
       "    </tr>\n",
       "    <tr>\n",
       "      <th>6</th>\n",
       "      <td>Pollution</td>\n",
       "      <td>1</td>\n",
       "      <td>0.70</td>\n",
       "      <td>0.033333</td>\n",
       "    </tr>\n",
       "    <tr>\n",
       "      <th>7</th>\n",
       "      <td>Plague</td>\n",
       "      <td>2</td>\n",
       "      <td>0.80</td>\n",
       "      <td>0.066667</td>\n",
       "    </tr>\n",
       "    <tr>\n",
       "      <th>8</th>\n",
       "      <td>Fire degree 1</td>\n",
       "      <td>1</td>\n",
       "      <td>0.80</td>\n",
       "      <td>0.033333</td>\n",
       "    </tr>\n",
       "    <tr>\n",
       "      <th>9</th>\n",
       "      <td>Fire degree 2</td>\n",
       "      <td>0</td>\n",
       "      <td>0.95</td>\n",
       "      <td>0.000000</td>\n",
       "    </tr>\n",
       "    <tr>\n",
       "      <th>10</th>\n",
       "      <td>No events</td>\n",
       "      <td>20</td>\n",
       "      <td>0.00</td>\n",
       "      <td>0.666667</td>\n",
       "    </tr>\n",
       "  </tbody>\n",
       "</table>\n",
       "</div>"
      ],
      "text/plain": [
       "                        Event  Years occured  Damage probability  \\\n",
       "0   Regional drought degree 1              1                0.20   \n",
       "1   Regional drought degree 2              1                0.45   \n",
       "2   Regional drought degree 3              0                0.65   \n",
       "3   Regional drought degree 4              0                0.75   \n",
       "4               Pipe breakage              3                0.55   \n",
       "5                 Human error              1                0.90   \n",
       "6                   Pollution              1                0.70   \n",
       "7                      Plague              2                0.80   \n",
       "8               Fire degree 1              1                0.80   \n",
       "9               Fire degree 2              0                0.95   \n",
       "10                  No events             20                0.00   \n",
       "\n",
       "    Event probability  \n",
       "0            0.033333  \n",
       "1            0.033333  \n",
       "2            0.000000  \n",
       "3            0.000000  \n",
       "4            0.100000  \n",
       "5            0.033333  \n",
       "6            0.033333  \n",
       "7            0.066667  \n",
       "8            0.033333  \n",
       "9            0.000000  \n",
       "10           0.666667  "
      ]
     },
     "execution_count": 2,
     "metadata": {},
     "output_type": "execute_result"
    }
   ],
   "source": [
    "# Create a new column that contains the probabilities of each event based on the historical data\n",
    "df['Event probability'] = df['Years occured']/sum(df['Years occured'])\n",
    "df.head(11)"
   ]
  },
  {
   "cell_type": "markdown",
   "metadata": {},
   "source": [
    "The answer to question a can be found in column _Event probability_."
   ]
  },
  {
   "cell_type": "markdown",
   "metadata": {},
   "source": [
    "### Part c\n",
    "We are going to create a new column that will store the joint probability of an event happening and the plants beign damaged. To compute these joint probabilities we will multiply columns _Event probability_ and _Damage probability_ entrywise. The total probability of plants being damaged in a given year is simply the sum of these joint probabilities."
   ]
  },
  {
   "cell_type": "code",
   "execution_count": 3,
   "metadata": {},
   "outputs": [
    {
     "name": "stdout",
     "output_type": "stream",
     "text": [
      "                        Event  Years occured  Damage probability  \\\n",
      "0   Regional drought degree 1              1                0.20   \n",
      "1   Regional drought degree 2              1                0.45   \n",
      "2   Regional drought degree 3              0                0.65   \n",
      "3   Regional drought degree 4              0                0.75   \n",
      "4               Pipe breakage              3                0.55   \n",
      "5                 Human error              1                0.90   \n",
      "6                   Pollution              1                0.70   \n",
      "7                      Plague              2                0.80   \n",
      "8               Fire degree 1              1                0.80   \n",
      "9               Fire degree 2              0                0.95   \n",
      "10                  No events             20                0.00   \n",
      "\n",
      "    Event probability  Joint probability  \n",
      "0            0.033333           0.006667  \n",
      "1            0.033333           0.015000  \n",
      "2            0.000000           0.000000  \n",
      "3            0.000000           0.000000  \n",
      "4            0.100000           0.055000  \n",
      "5            0.033333           0.030000  \n",
      "6            0.033333           0.023333  \n",
      "7            0.066667           0.053333  \n",
      "8            0.033333           0.026667  \n",
      "9            0.000000           0.000000  \n",
      "10           0.666667           0.000000  \n",
      "The total probability of plants being damaged in a given year is 0.2100.\n"
     ]
    }
   ],
   "source": [
    "# Create a new column that will store the joint probabilities\n",
    "df['Joint probability'] = df['Event probability']*df['Damage probability']\n",
    "print(df.head(11))\n",
    "\n",
    "# Find the sum of the joint probabilities\n",
    "total_damage_prob = sum(df['Joint probability'])\n",
    "print(f\"The total probability of plants being damaged in a given year is {total_damage_prob:.4f}.\")"
   ]
  },
  {
   "cell_type": "markdown",
   "metadata": {},
   "source": [
    "### Part d\n",
    "\n",
    "We used the law of total probability under the assumptions that the calamity events are mutually exclusive and form the complete sample space."
   ]
  },
  {
   "cell_type": "markdown",
   "metadata": {},
   "source": [
    "### Part e\n",
    "Since the highest value in the joint probability column corresponds to pipe breakage, action 1 should be prioritized."
   ]
  },
  {
   "cell_type": "markdown",
   "metadata": {},
   "source": [
    "-------------------------------------------------------------------------------\n",
    "# **Question 9: SUM OF TWO DICE ROLLS (6 points)**\n",
    "-------------------------------------------------------------------------------\n",
    "## Description\n",
    "\n",
    "Consider two fair six-sided dice. The sum of their rolls can be any integer between 2 and 12. "
   ]
  },
  {
   "cell_type": "markdown",
   "metadata": {},
   "source": [
    "## Questions\n",
    "\n",
    "a. (3 points) What is the probability mass function (PMF) of the sum of the two dice rolls? Complete the code provided to you.\n",
    "\n",
    "b. (1 point) Visualize the PMF of the sum.\n",
    "\n",
    "c. (1 point) What is the expected value of the sum?\n",
    "\n",
    "d. (1 point) What is the standard deviation of the sum?"
   ]
  },
  {
   "cell_type": "markdown",
   "metadata": {},
   "source": [
    "## **Your code**"
   ]
  },
  {
   "cell_type": "markdown",
   "metadata": {},
   "source": [
    "### Part a\n",
    "\n",
    "We are going to compute the PMF of the sum of the two dice rolls using a dictionary. The values of the sum will be the keys and the corresponding probabilities will be the values."
   ]
  },
  {
   "cell_type": "code",
   "execution_count": 4,
   "metadata": {},
   "outputs": [],
   "source": [
    "# Initialize a dictionary to store the values of the sum and the corresponding probabilities\n",
    "pmf = {}\n",
    "\n",
    "# Iterate over all possible outcomes of two rolls \n",
    "for die1 in range(1, 7):\n",
    "    for die2 in range(1, 7):\n",
    "        # Compute the sum of the two dice\n",
    "        dice_sum = die1 + die2\n",
    "            \n",
    "        # Compute the corresponding probability \n",
    "        p_roll = (1/6)**2\n",
    "\n",
    "        # Update the probability for this sum in the dictionary\n",
    "        if dice_sum in pmf: \n",
    "            pmf[dice_sum] = pmf[dice_sum] + p_roll\n",
    "        else:\n",
    "            pmf[dice_sum] =  p_roll"
   ]
  },
  {
   "cell_type": "markdown",
   "metadata": {},
   "source": [
    "### Part b\n",
    "\n",
    "We will visualize the PMF using pyplot from matplotlib. The sums and the probabilities that are stored in the pmf dictionary will be transferred into numpy arrays."
   ]
  },
  {
   "cell_type": "code",
   "execution_count": 5,
   "metadata": {},
   "outputs": [
    {
     "data": {
      "image/png": "[encoded data removed]",
      "text/plain": [
       "<Figure size 640x480 with 1 Axes>"
      ]
     },
     "metadata": {},
     "output_type": "display_data"
    }
   ],
   "source": [
    "# Import the library\n",
    "import matplotlib.pyplot as plt\n",
    "\n",
    "# Create numpy arrays for the sums and their probabilities\n",
    "sums = np.array(list(pmf.keys()))\n",
    "p_sums = np.array(list(pmf.values()))\n",
    "\n",
    "# Create a bar chart\n",
    "plt.bar(sums, p_sums)\n",
    "plt.title('Probability mass function for the sum of two dice rolls')\n",
    "plt.xlabel('Sum of two dice rolls')\n",
    "plt.ylabel('Probability')\n",
    "plt.show()"
   ]
  },
  {
   "cell_type": "markdown",
   "metadata": {},
   "source": [
    "### Part c\n",
    "\n",
    "The expected value is simply the weighted sum of all sum values and can be computed using a dot product."
   ]
  },
  {
   "cell_type": "code",
   "execution_count": 6,
   "metadata": {},
   "outputs": [
    {
     "name": "stdout",
     "output_type": "stream",
     "text": [
      "The expected value of the sum of two dice rolls 7.0000.\n"
     ]
    }
   ],
   "source": [
    "# Compute the expected value \n",
    "expectation = np.dot(sums, p_sums)\n",
    "\n",
    "print(f\"The expected value of the sum of two dice rolls {expectation:.4f}.\")"
   ]
  },
  {
   "cell_type": "markdown",
   "metadata": {},
   "source": [
    "### Part d\n",
    "\n",
    "First, we are going to find the variance using the dot product. The square root of the variance will give us the standard deviation."
   ]
  },
  {
   "cell_type": "code",
   "execution_count": 7,
   "metadata": {},
   "outputs": [
    {
     "name": "stdout",
     "output_type": "stream",
     "text": [
      "The standard deviation of the sum of two dice rolls 2.4152.\n"
     ]
    }
   ],
   "source": [
    "# Compute the variance\n",
    "squared_difference = np.square(sums-expectation)\n",
    "variance = np.dot(squared_difference, p_sums)\n",
    "\n",
    "# Compute the standard deviation\n",
    "std_deviation = variance**0.5\n",
    "\n",
    "print(f\"The standard deviation of the sum of two dice rolls {std_deviation:.4f}.\")  "
   ]
  }
 ],
 "metadata": {
  "colab": {
   "name": "Mobile_Internet_Case_Study.ipynb",
   "provenance": []
  },
  "kernelspec": {
   "display_name": "Python 3 (ipykernel)",
   "language": "python",
   "name": "python3"
  },
  "language_info": {
   "codemirror_mode": {
    "name": "ipython",
    "version": 3
   },
   "file_extension": ".py",
   "mimetype": "text/x-python",
   "name": "python",
   "nbconvert_exporter": "python",
   "pygments_lexer": "ipython3",
   "version": "3.10.14"
  },
  "toc": {
   "base_numbering": 1,
   "nav_menu": {},
   "number_sections": true,
   "sideBar": true,
   "skip_h1_title": false,
   "title_cell": "Table of Contents",
   "title_sidebar": "Contents",
   "toc_cell": false,
   "toc_position": {},
   "toc_section_display": true,
   "toc_window_display": false
  },
  "varInspector": {
   "cols": {
    "lenName": 16,
    "lenType": 16,
    "lenVar": 40
   },
   "kernels_config": {
    "python": {
     "delete_cmd_postfix": "",
     "delete_cmd_prefix": "del ",
     "library": "var_list.py",
     "varRefreshCmd": "print(var_dic_list())"
    },
    "r": {
     "delete_cmd_postfix": ") ",
     "delete_cmd_prefix": "rm(",
     "library": "var_list.r",
     "varRefreshCmd": "cat(var_dic_list()) "
    }
   },
   "types_to_exclude": [
    "module",
    "function",
    "builtin_function_or_method",
    "instance",
    "_Feature"
   ],
   "window_display": false
  }
 },
 "nbformat": 4,
 "nbformat_minor": 1
}
