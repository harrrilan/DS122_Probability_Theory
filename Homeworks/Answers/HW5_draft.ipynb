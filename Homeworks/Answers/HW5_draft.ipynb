{
 "cells": [
  {
   "cell_type": "markdown",
   "metadata": {},
   "source": [
    "-------------------------------------------------------\n",
    "# **Question 8:  CONFIDENCE INTERVALS** (5 points)\n",
    "-------------------------------------------------------\n",
    "\n",
    "## Description\n",
    "\n",
    " A sample from a population of size 2000 yields the following 25 values:\n",
    " \n",
    " 104, 109, 111, 109, 87, 86, 80, 119, 88, 122, 91, 103, 99, 108, 96, 104, 98, 98, 83, 107, 79, 87, 94, 92, 97.\n"
   ]
  },
  {
   "cell_type": "markdown",
   "metadata": {},
   "source": [
    "## Questions\n",
    "\n",
    "a. Calculate and print an unbiased estimate of the population mean.\n",
    "\n",
    "b. Calculate and print an unbiased estimate of the population variance.\n",
    "\n",
    "c. Write a Python function that computes an approximate confidence interval for the population mean.\n",
    "\n",
    "d. Print out approximate 80%, 90%, 95%, and 98% confidence intervals for the population mean."
   ]
  },
  {
   "cell_type": "markdown",
   "metadata": {},
   "source": [
    "## Answer"
   ]
  },
  {
   "cell_type": "markdown",
   "metadata": {},
   "source": [
    "### Part a"
   ]
  },
  {
   "cell_type": "code",
   "execution_count": 14,
   "metadata": {},
   "outputs": [
    {
     "name": "stdout",
     "output_type": "stream",
     "text": [
      "Unbiased estimate of the population mean: 98.04\n"
     ]
    }
   ],
   "source": [
    "# Import the packages\n",
    "import numpy as np\n",
    "import scipy.stats as stats\n",
    "\n",
    "# Sample data\n",
    "data = [104, 109, 111, 109, 87, 86, 80, 119, 88, 122, 91, 103, 99, 108, 96, 104, 98, 98, 83, 107, 79, 87, 94, 92, 97]\n",
    "\n",
    "# Calculate an unbiased estimate of the population mean\n",
    "sample_mean = np.mean(data)\n",
    "print(f\"Unbiased estimate of the population mean: {sample_mean:.2f}\")"
   ]
  },
  {
   "cell_type": "markdown",
   "metadata": {},
   "source": [
    "### Part b"
   ]
  },
  {
   "cell_type": "code",
   "execution_count": 15,
   "metadata": {},
   "outputs": [
    {
     "name": "stdout",
     "output_type": "stream",
     "text": [
      "Unbiased estimate of the population variance: 133.71\n"
     ]
    }
   ],
   "source": [
    "# Calculate an estimate of the population variance with Bessel's correction\n",
    "sample_variance = np.var(data, ddof=1)\n",
    "print(f\"Unbiased estimate of the population variance: {sample_variance:.2f}\")"
   ]
  },
  {
   "cell_type": "markdown",
   "metadata": {},
   "source": [
    "### Part c"
   ]
  },
  {
   "cell_type": "code",
   "execution_count": 23,
   "metadata": {},
   "outputs": [],
   "source": [
    "# Function to compute confidence interval\n",
    "def confidence_interval(data, confidence):\n",
    "    n = len(data)\n",
    "    mean = np.mean(data)\n",
    "    variance = np.var(data, ddof=1)\n",
    "    stand_error = np.sqrt(variance/n)\n",
    "    h = stand_error * stats.t.ppf((1 + confidence) / 2, n - 1)\n",
    "    return mean - h, mean + h"
   ]
  },
  {
   "cell_type": "markdown",
   "metadata": {},
   "source": [
    "### Part d"
   ]
  },
  {
   "cell_type": "code",
   "execution_count": 25,
   "metadata": {},
   "outputs": [
    {
     "name": "stdout",
     "output_type": "stream",
     "text": [
      "80% confidence interval: 94.99 to 101.09\n",
      "90% confidence interval: 94.08 to 102.00\n",
      "95% confidence interval: 93.27 to 102.81\n",
      "98% confidence interval: 92.28 to 103.80\n"
     ]
    }
   ],
   "source": [
    "# Print out approximate confidence intervals\n",
    "intervals = [0.80, 0.90, 0.95, 0.98]\n",
    "for interval in intervals:\n",
    "    ci_lower, ci_upper = confidence_interval(data, interval)\n",
    "    print(f\"{int(conf*100)}% confidence interval: {ci_lower:.2f} to {ci_upper:.2f}\")"
   ]
  },
  {
   "cell_type": "markdown",
   "metadata": {
    "id": "fNQ9mYtCb3yM"
   },
   "source": [
    "-------------------------------------------------------\n",
    "# **Question 9:  MAMMOGRAPHY** (9 points)\n",
    "-------------------------------------------------------\n",
    "\n",
    "## Description\n",
    "\n",
    "Breast cancer is one of the most common malignancies among women in the United States. If the cancer is detected early enough — before it spreads — chances of successful treatment are better. “Mammography” means screening women for breast cancer by X-rays. Does mammography speed up detection by enough to matter? The first large-scale randomized controlled experiment was HIP (Health Insurance Plan) in New York, followed by the Two-County study in Sweden. There were about half a dozen other trials as well. Some were negative (screening doesn’t help) but most were positive. By the late 1980s, mammography had gained general acceptance.\n",
    "\n",
    "The HIP study was done in the early 1960s. HIP was a group medical practice which had at the time some 700,000 members. Subjects in the experiment were 62,000 women age 40–64, members of HIP, who were randomized to treatment or control. “Treatment” consisted of invitation to 4 rounds of annual screening — a clinical exam and mammography. The control group continued to receive usual health care. Results from the first 5 years of followup are shown in the table below. In the treatment group, about 2/3 of the women accepted the invitation to be screened, and 1/3 refused. "
   ]
  },
  {
   "cell_type": "markdown",
   "metadata": {},
   "source": [
    "| Group                | Size  | Breast Cancer | All Other |\n",
    "|----------------------|-------|---------------|-----------|\n",
    "| Treatment - Screened | 20,200| 23            | 428       |\n",
    "| Treatment - Refused  | 10,800| 16            | 409       |\n",
    "| Treatment - Total    | 31,000| 39            | 837       |\n",
    "| Control - Total      | 31,000| 63            | 879       |\n"
   ]
  },
  {
   "cell_type": "markdown",
   "metadata": {},
   "source": [
    "We are going to compare the treatment and control groups to establish whether offering mammography reduces the risk of death from breast cancer based on the HIP study. The hypothesis test should use the binomial distribution."
   ]
  },
  {
   "cell_type": "markdown",
   "metadata": {},
   "source": [
    "## Questions\n",
    "\n",
    "a. Formulate the null hypothesis: describe the hypothesis in words and provide its mathematical statement. \n",
    "\n",
    "b. Formulate the alternative hypothesis: describe the hypothesis in words and provide its mathematical statement. \n",
    "\n",
    "c. Plot the binomial distribution illustrating the probability of different number of deaths under the null hypothesis. Select an appropriate number of trials. The number of deaths should range from 0 to 120. Indicate the cut-off region for a significance level of 5%.\n",
    "\n",
    "d. Perform a hypothesis test using the binomial distribution with significance level of 5%. \n",
    "\n",
    "e. Make a decision: you can either reject the null hypothesis or fail to reject it.\n",
    "\n",
    "f. Provide a conclusion based on your decision in part e."
   ]
  },
  {
   "cell_type": "markdown",
   "metadata": {
    "id": "5nFy-Lkmb3yR"
   },
   "source": [
    "## **Answer**"
   ]
  },
  {
   "cell_type": "markdown",
   "metadata": {},
   "source": [
    "### Part a"
   ]
  },
  {
   "cell_type": "markdown",
   "metadata": {},
   "source": [
    "The null hypothesis is that offering mammography does not reduce the risk of death from breast cancer. Mathematically, this can be stated as:\n",
    "\n",
    "$$H_0: p_{treatment} = p_{control}.$$"
   ]
  },
  {
   "cell_type": "markdown",
   "metadata": {},
   "source": [
    "### Part b"
   ]
  },
  {
   "cell_type": "markdown",
   "metadata": {},
   "source": [
    "The alternative hypothesis is that offering mammography reduces the risk of death from breast cancer. Mathematically, this can be stated as:\n",
    "\n",
    "$$H_0: p_{treatment} < p_{control}.$$"
   ]
  },
  {
   "cell_type": "markdown",
   "metadata": {},
   "source": [
    "### Part c"
   ]
  },
  {
   "cell_type": "markdown",
   "metadata": {},
   "source": [
    "### Preliminaries"
   ]
  },
  {
   "cell_type": "code",
   "execution_count": 5,
   "metadata": {
    "ExecuteTime": {
     "end_time": "2020-05-12T08:39:10.385004Z",
     "start_time": "2020-05-12T08:39:07.270284Z"
    },
    "id": "MyVUpMAeb3yS"
   },
   "outputs": [],
   "source": [
    "# Import the packages\n",
    "import scipy.stats as stats\n",
    "import numpy as np\n",
    "import matplotlib.pyplot as plt\n",
    "from scipy.stats import binom"
   ]
  },
  {
   "cell_type": "code",
   "execution_count": 7,
   "metadata": {},
   "outputs": [
    {
     "data": {
      "image/png": "[encoded data removed]",
      "text/plain": [
       "<Figure size 1000x500 with 1 Axes>"
      ]
     },
     "metadata": {},
     "output_type": "display_data"
    }
   ],
   "source": [
    "# Define the number of trials, p_control, and the different numbers of deaths\n",
    "n = 31000\n",
    "p = 63/n\n",
    "k = np.arange(0, 120)\n",
    "\n",
    "# Compute the probabilities\n",
    "prob = [binom.pmf(i, n, p) for i in k]    # Probabilities, calculated using ~ Binom( 31000, 0.002 ), for each value of k\n",
    "\n",
    "# Make a plot\n",
    "plt.figure(figsize = (10, 5))\n",
    "plt.bar(k, prob)\n",
    "plt.axvline(50, color = 'red', linestyle = '-', linewidth=1)\n",
    "plt.xlabel(\"number of deaths\")\n",
    "plt.ylabel(\"probability\")\n",
    "\n",
    "plt.show()"
   ]
  },
  {
   "cell_type": "markdown",
   "metadata": {},
   "source": [
    "### Part d"
   ]
  },
  {
   "cell_type": "code",
   "execution_count": 11,
   "metadata": {},
   "outputs": [
    {
     "name": "stdout",
     "output_type": "stream",
     "text": [
      "The p-value is 0.0008\n"
     ]
    }
   ],
   "source": [
    "# Finding the p-value using the binomial distribution\n",
    "result = stats.binomtest(k = 39, n = n, p = p, alternative='less')\n",
    "print(\"The p-value is\", round(result.pvalue, 4))"
   ]
  },
  {
   "cell_type": "markdown",
   "metadata": {},
   "source": [
    "### Part e"
   ]
  },
  {
   "cell_type": "markdown",
   "metadata": {},
   "source": [
    "The obtained p-value is less than 0.05, we reject the null hypothesis at a 95% confidence level."
   ]
  },
  {
   "cell_type": "markdown",
   "metadata": {},
   "source": [
    "### Part f"
   ]
  },
  {
   "cell_type": "markdown",
   "metadata": {},
   "source": [
    "We conclude that offering mammography reduces the risk of death from breast cancer."
   ]
  }
 ],
 "metadata": {
  "colab": {
   "name": "Mobile_Internet_Case_Study.ipynb",
   "provenance": []
  },
  "kernelspec": {
   "display_name": "Python 3 (ipykernel)",
   "language": "python",
   "name": "python3"
  },
  "language_info": {
   "codemirror_mode": {
    "name": "ipython",
    "version": 3
   },
   "file_extension": ".py",
   "mimetype": "text/x-python",
   "name": "python",
   "nbconvert_exporter": "python",
   "pygments_lexer": "ipython3",
   "version": "3.9.19"
  },
  "toc": {
   "base_numbering": 1,
   "nav_menu": {},
   "number_sections": true,
   "sideBar": true,
   "skip_h1_title": false,
   "title_cell": "Table of Contents",
   "title_sidebar": "Contents",
   "toc_cell": false,
   "toc_position": {},
   "toc_section_display": true,
   "toc_window_display": false
  },
  "varInspector": {
   "cols": {
    "lenName": 16,
    "lenType": 16,
    "lenVar": 40
   },
   "kernels_config": {
    "python": {
     "delete_cmd_postfix": "",
     "delete_cmd_prefix": "del ",
     "library": "var_list.py",
     "varRefreshCmd": "print(var_dic_list())"
    },
    "r": {
     "delete_cmd_postfix": ") ",
     "delete_cmd_prefix": "rm(",
     "library": "var_list.r",
     "varRefreshCmd": "cat(var_dic_list()) "
    }
   },
   "types_to_exclude": [
    "module",
    "function",
    "builtin_function_or_method",
    "instance",
    "_Feature"
   ],
   "window_display": false
  }
 },
 "nbformat": 4,
 "nbformat_minor": 4
}
