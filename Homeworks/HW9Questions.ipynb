{
 "cells": [
  {
   "cell_type": "markdown",
   "metadata": {},
   "source": [
    "-------------------------------------------------------\n",
    "# **Question 6: MONTE CARLO $\\pi$ (6 points)**\n",
    "-------------------------------------------------------\n",
    "\n",
    "## Description\n",
    "\n",
    "It is possible to approximate the value of $\\pi$ using Monte Carlo simulation. \n",
    "\n",
    "The idea is to first create a square with side 1 and a circle with radius 0.5 enclosed in this square. Let the circle have radius $r$ and be centered at $(0,0)$. Then the area of the circle is equal to $\\pi r^2.$ The area of the square is equal to $4 r^2.$\n",
    "\n",
    "From these two equations for the areas of a circle and square we can compute $\\pi$. First, we need to find the ratio $R$ of the area of a circle to that of the square containing that circle:\n",
    "\n",
    "$$R =\\frac{\\pi r^2}{4 r^2} = \\frac{\\pi}{4}.$$\n",
    "\n",
    "Then to compute $\\pi$ all we need to do is multiply 4 times $R.$ Just like with the integration example discussed in the lecture, we can approximate $R$ by simulating a large number of points in the square and then simply counting the number that fall inside the circle:\n",
    "\n",
    "$$R \\approx \\frac{\\text{Number of points within the circle}}{\\text{Total number of points}}.$$\n",
    "\n",
    "<center>\n",
    "\n",
    "<img src=\"Monte_Carlo_pi.png\" width=\"450px\"> \n",
    "\n",
    "</center>"
   ]
  },
  {
   "cell_type": "markdown",
   "metadata": {},
   "source": [
    "## Questions\n",
    "\n",
    "a. Write a function to approximate $\\pi$ using Monte Carlo simulation. \n",
    "Note: The function should generate data points based on a continuous uniform distribution within the square with side 1, centered at (0,0) (2 points). \n",
    "\n",
    "b. Use 1000 points. Print out the approximation of $\\pi$. Make a scatter plot showing the generated points. (2 Points).\n",
    "\n",
    "c. Print out the approximation based on 10,000 points. (2 Points)"
   ]
  },
  {
   "cell_type": "markdown",
   "metadata": {},
   "source": [
    "## Code"
   ]
  },
  {
   "cell_type": "markdown",
   "metadata": {},
   "source": [
    "### Part a"
   ]
  },
  {
   "cell_type": "code",
   "execution_count": 1,
   "metadata": {},
   "outputs": [],
   "source": [
    "# create a function to approximate pi \n",
    "\n",
    "#your code here \n",
    "import numpy as np\n",
    "import matplotlib.pyplot as plt\n",
    "\n",
    "\n",
    "def approximate_pi(n):\n",
    "\n",
    "    np.random.seed(42)\n",
    "\n",
    "    x = np.random.uniform(-0.5, 0.5, n)\n",
    "    y = np.random.uniform(-0.5, 0.5, n)\n",
    "\n",
    "    in_circle =  x ** 2 + y ** 2 <= 0.25\n",
    "\n",
    "    pi = 4 * (np.sum(in_circle) / n)\n",
    "\n",
    "    return pi, x, y, in_circle"
   ]
  },
  {
   "cell_type": "markdown",
   "metadata": {},
   "source": [
    "### Part b"
   ]
  },
  {
   "cell_type": "code",
   "execution_count": null,
   "metadata": {},
   "outputs": [
    {
     "ename": "",
     "evalue": "",
     "output_type": "error",
     "traceback": [
      "\u001b[1;31mRunning cells with 'Python 3.9.6' requires the ipykernel package.\n",
      "\u001b[1;31mRun the following command to install 'ipykernel' into the Python environment. \n",
      "\u001b[1;31mCommand: '/usr/bin/python3 -m pip install ipykernel -U --user --force-reinstall'"
     ]
    }
   ],
   "source": [
    "# plot 1000 points and PRINT the approximation of pi, make scatter plot\n",
    "\n",
    "#your code here\n",
    "pi, x, y, in_circle = approximate_pi(1000)\n",
    "\n",
    "plt.figure(figsize=(6, 6))\n",
    "plt.scatter(x[in_circle], y[in_circle], c='coolwarm', s=7, label='Inside')\n",
    "plt.scatter(x[~in_circle], y[~in_circle], c='blue', s=7, label='Outside')\n",
    "plt.gca().set_aspect('equal', adjustable='box')\n",
    "plt.legend()\n",
    "plt.show()"
   ]
  },
  {
   "cell_type": "markdown",
   "metadata": {},
   "source": [
    "### Part c "
   ]
  },
  {
   "cell_type": "code",
   "execution_count": 35,
   "metadata": {},
   "outputs": [
    {
     "name": "stdout",
     "output_type": "stream",
     "text": [
      "Approximation of pi:  3.096\n"
     ]
    }
   ],
   "source": [
    "# Print approximation\n",
    "\n",
    "#your code here\n",
    "print(\"Approximation of pi: \", pi)"
   ]
  },
  {
   "cell_type": "markdown",
   "metadata": {},
   "source": [
    "-------------------------------------------------------\n",
    "# **Question 7: ACCEPT/REJECT (8 points)**\n",
    "-------------------------------------------------------\n",
    "\n",
    "## Description\n",
    "\n",
    "We are going to use accept/reject method to simulate random variables with the following PDF:\n",
    "\n",
    "$$f(x) = \\begin{cases}\n",
    "4/3x & \\text{ if } 0 < x \\leq 0.5,\\\\\n",
    "2/3 & \\text{ if } 0.5 < x \\leq 1.5,\\\\\n",
    "8/3 - 4/3x & \\text{ if } 1.5 < x \\leq 2,\\\\\n",
    "0 & \\text{ otherwise.}\n",
    "\\end{cases}$$"
   ]
  },
  {
   "cell_type": "markdown",
   "metadata": {},
   "source": [
    "## Questions \n",
    "\n",
    "a. Plot function $f$. (2 points)\n",
    "\n",
    "b. Chose appropriate function $g(x)$ and constant $k$. (2 points)\n",
    "\n",
    "c. Implement the accept/reject method and use it to generate 100,000 observations. (3 points)\n",
    "\n",
    "d. Plot the sampled distribution together with function $f$. (1 point)"
   ]
  },
  {
   "cell_type": "markdown",
   "metadata": {},
   "source": [
    "## Code\n",
    "\n",
    "### Part a"
   ]
  },
  {
   "cell_type": "code",
   "execution_count": 51,
   "metadata": {},
   "outputs": [
    {
     "data": {
      "text/plain": [
       "[<matplotlib.lines.Line2D at 0x136b27fb0>]"
      ]
     },
     "execution_count": 51,
     "metadata": {},
     "output_type": "execute_result"
    },
    {
     "data": {
      "image/png": "[encoded data removed]",
      "text/plain": [
       "<Figure size 640x480 with 1 Axes>"
      ]
     },
     "metadata": {},
     "output_type": "display_data"
    }
   ],
   "source": [
    "import scipy.stats as stats\n",
    "import numpy as np\n",
    "import matplotlib.pyplot as plt\n",
    "\n",
    "\n",
    "def f(x):\n",
    "\n",
    "    if 0 < x <= 0.5:\n",
    "        return 4/3 * x\n",
    "    elif 0.5 < x <= 1.5:\n",
    "        return 2/3\n",
    "    elif 1.5 < x <= 2:\n",
    "        return 8/3 - 4/3*x\n",
    "    else:\n",
    "        return 0\n",
    "\n",
    "\n",
    "x = np.linspace(0, 2, 1000)\n",
    "plt.plot(x, y)\n"
   ]
  },
  {
   "cell_type": "markdown",
   "metadata": {},
   "source": [
    "### Part b"
   ]
  },
  {
   "cell_type": "markdown",
   "metadata": {},
   "source": [
    "your solution here "
   ]
  },
  {
   "cell_type": "code",
   "execution_count": 78,
   "metadata": {},
   "outputs": [],
   "source": [
    "def g(x):\n",
    "    return 0.5 * np.ones_like(x)"
   ]
  },
  {
   "cell_type": "markdown",
   "metadata": {},
   "source": [
    "### Part c"
   ]
  },
  {
   "cell_type": "code",
   "execution_count": 79,
   "metadata": {},
   "outputs": [],
   "source": [
    "# Your code\n",
    "def accept_reject(n):\n",
    "    observations = []\n",
    "    while len(observations) < n:\n",
    "        u = np.random.uniform(0, 1)\n",
    "        x = np.random.uniform(0, 2)\n",
    "        if f(x)/(k*g(x)) >= u:\n",
    "            observations.append(x)\n",
    "\n",
    "    return np.array(observations)\n",
    "# define k \n",
    "k = 2\n",
    "#define f(x) (defined)\n",
    "\n",
    "#run the accept-reject algorithm \n",
    "n_observations = 100000\n",
    "observations = accept_reject(n_observations)\n",
    "#generate observations "
   ]
  },
  {
   "cell_type": "markdown",
   "metadata": {},
   "source": [
    "### Part d"
   ]
  },
  {
   "cell_type": "code",
   "execution_count": 87,
   "metadata": {},
   "outputs": [
    {
     "data": {
      "text/plain": [
       "[<matplotlib.lines.Line2D at 0x1419e4200>]"
      ]
     },
     "execution_count": 87,
     "metadata": {},
     "output_type": "execute_result"
    },
    {
     "data": {
      "image/png": "[encoded data removed]",
      "text/plain": [
       "<Figure size 640x480 with 1 Axes>"
      ]
     },
     "metadata": {},
     "output_type": "display_data"
    }
   ],
   "source": [
    "# Your code\n",
    "plt.hist(observations,density=True, bins=150, color='lightblue')\n",
    "plt.plot(x, y)\n"
   ]
  }
 ],
 "metadata": {
  "colab": {
   "name": "Mobile_Internet_Case_Study.ipynb",
   "provenance": []
  },
  "kernelspec": {
   "display_name": "base",
   "language": "python",
   "name": "python3"
  },
  "language_info": {
   "codemirror_mode": {
    "name": "ipython",
    "version": 3
   },
   "file_extension": ".py",
   "mimetype": "text/x-python",
   "name": "python",
   "nbconvert_exporter": "python",
   "pygments_lexer": "ipython3",
   "version": "3.12.7"
  },
  "toc": {
   "base_numbering": 1,
   "nav_menu": {},
   "number_sections": true,
   "sideBar": true,
   "skip_h1_title": false,
   "title_cell": "Table of Contents",
   "title_sidebar": "Contents",
   "toc_cell": false,
   "toc_position": {},
   "toc_section_display": true,
   "toc_window_display": false
  },
  "varInspector": {
   "cols": {
    "lenName": 16,
    "lenType": 16,
    "lenVar": 40
   },
   "kernels_config": {
    "python": {
     "delete_cmd_postfix": "",
     "delete_cmd_prefix": "del ",
     "library": "var_list.py",
     "varRefreshCmd": "print(var_dic_list())"
    },
    "r": {
     "delete_cmd_postfix": ") ",
     "delete_cmd_prefix": "rm(",
     "library": "var_list.r",
     "varRefreshCmd": "cat(var_dic_list()) "
    }
   },
   "types_to_exclude": [
    "module",
    "function",
    "builtin_function_or_method",
    "instance",
    "_Feature"
   ],
   "window_display": false
  }
 },
 "nbformat": 4,
 "nbformat_minor": 4
}
