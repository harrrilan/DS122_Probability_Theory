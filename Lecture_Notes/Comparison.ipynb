{
 "cells": [
  {
   "cell_type": "markdown",
   "metadata": {},
   "source": [
    "## How tall is A?"
   ]
  },
  {
   "cell_type": "code",
   "execution_count": 2,
   "metadata": {},
   "outputs": [],
   "source": [
    "import pandas as pd\n",
    "import numpy as np\n",
    "import matplotlib.pyplot as plt"
   ]
  },
  {
   "cell_type": "code",
   "execution_count": null,
   "metadata": {},
   "outputs": [],
   "source": [
    "# multiplies prbabilities from two distributions\n",
    "def make_joint(pmf1, pmf2):\n",
    "    \"\"\"Compute the outer product of two Pmfs.\"\"\"\n",
    "    X, Y = np.meshgrid(pmf1['probs'], pmf2['probs'])\n",
    "    return pd.DataFrame(X * Y, columns=pmf1.index, index=pmf2.index)\n",
    "\n",
    "# normal prior\n",
    "p_dist = pd.DataFrame(index = np.linspace(140,220,161))\n",
    "p_dist['probs'] = [norm.pdf(x, 178, 7.7) for x in p_dist.index]\n",
    "p_dist['probs'] = p_dist['probs']/sum(p_dist['probs'])\n",
    "\n",
    "# joint prior\n",
    "joint = make_joint(p_dist, p_dist)"
   ]
  }
 ],
 "metadata": {
  "kernelspec": {
   "display_name": "base",
   "language": "python",
   "name": "python3"
  },
  "language_info": {
   "codemirror_mode": {
    "name": "ipython",
    "version": 3
   },
   "file_extension": ".py",
   "mimetype": "text/x-python",
   "name": "python",
   "nbconvert_exporter": "python",
   "pygments_lexer": "ipython3",
   "version": "3.11.5"
  }
 },
 "nbformat": 4,
 "nbformat_minor": 2
}
