{
 "cells": [
  {
   "cell_type": "markdown",
   "id": "e3dda9d0-a389-41c2-8b82-6c904872eb38",
   "metadata": {},
   "source": [
    "# Question 8 : \"THE LEAGUE\" (16 points)"
   ]
  },
  {
   "cell_type": "markdown",
   "id": "f590744a-0cd2-4096-bb7e-86266cf16cba",
   "metadata": {},
   "source": [
    "### Description\n",
    "\n",
    "In this football problem, you will work like a data scientist and use real world data to perform a Bayesian Update on the distribution of the Goal Scoring Rate for two teams, Manchester United and Liverpool. \n"
   ]
  },
  {
   "cell_type": "markdown",
   "id": "c8236d1d",
   "metadata": {},
   "source": [
    "### Questions \n",
    "\n",
    "a. Import the necessary libraries, read the \"league_tables.csv\" file, and remove rows that are not Liverpool or Manchester United. (2 points)\n",
    "\n",
    "b. Create two separate dataframes for the two teams and calculate the average goal scoring rate (sum of GF / sum of MP) for each team. (3 points)\n",
    "\n",
    "c. Fit the gamma distribution for both teams. (2 points)\n",
    "\n",
    "d. (Given the Poisson likelihood function and update function from the textbook) : Find the updated distribution for Liverpool and Manchester United. For each, also graph the Prior and Posterior distributions in the same plot. (6 points)\n",
    "\n",
    "e. Suppose Manchester and Liverpool play each other and the resulting score is 3 (Manchester) - 2 (Liverpool). How certain are we that Manchester is the better team? \n"
   ]
  },
  {
   "cell_type": "markdown",
   "id": "114bc6c6",
   "metadata": {},
   "source": [
    "### Part a "
   ]
  },
  {
   "cell_type": "code",
   "execution_count": 1,
   "id": "241e22db-96f4-470d-82d9-597b2892680a",
   "metadata": {},
   "outputs": [],
   "source": []
  },
  {
   "cell_type": "markdown",
   "id": "1826bd3f",
   "metadata": {},
   "source": [
    "### Part b"
   ]
  },
  {
   "cell_type": "code",
   "execution_count": 5,
   "id": "12e0e4cd-0278-4a87-9514-fa7ae372aa2b",
   "metadata": {},
   "outputs": [],
   "source": []
  },
  {
   "cell_type": "markdown",
   "id": "bb0d52d6-6404-42bc-88fa-55994eb17b87",
   "metadata": {},
   "source": [
    "### Part c"
   ]
  },
  {
   "cell_type": "code",
   "execution_count": 8,
   "id": "73acdbe0-5cf5-44df-a384-0e5152f9946c",
   "metadata": {},
   "outputs": [],
   "source": []
  },
  {
   "cell_type": "markdown",
   "id": "d8e67d44-139c-424e-b577-5383536e0ce8",
   "metadata": {},
   "source": [
    "### Functions (from textbook)"
   ]
  },
  {
   "cell_type": "code",
   "execution_count": 9,
   "id": "b9977e53-47f9-439c-81f5-b34902252aab",
   "metadata": {},
   "outputs": [],
   "source": [
    "def likelihood_poisson(lam, data):\n",
    "    return [poisson.pmf(data, l)  for l in lam]\n",
    "\n",
    "def update(distribution, likelihood):\n",
    "    distribution['probs'] = distribution['probs'] * likelihood\n",
    "    prob_data = distribution['probs'].sum()\n",
    "    distribution['probs'] = distribution['probs'] / prob_data\n",
    "    return distribution"
   ]
  },
  {
   "cell_type": "markdown",
   "id": "362a70bd",
   "metadata": {},
   "source": [
    "### Part d"
   ]
  },
  {
   "cell_type": "code",
   "execution_count": null,
   "id": "b036ad59",
   "metadata": {},
   "outputs": [],
   "source": []
  },
  {
   "cell_type": "markdown",
   "id": "977a695f-5807-4fe4-b3aa-d4f60d696c37",
   "metadata": {},
   "source": [
    "### Part e "
   ]
  },
  {
   "cell_type": "code",
   "execution_count": null,
   "id": "11c76fc5",
   "metadata": {},
   "outputs": [],
   "source": []
  }
 ],
 "metadata": {
  "kernelspec": {
   "display_name": "base",
   "language": "python",
   "name": "python3"
  },
  "language_info": {
   "codemirror_mode": {
    "name": "ipython",
    "version": 3
   },
   "file_extension": ".py",
   "mimetype": "text/x-python",
   "name": "python",
   "nbconvert_exporter": "python",
   "pygments_lexer": "ipython3",
   "version": "3.12.7"
  }
 },
 "nbformat": 4,
 "nbformat_minor": 5
}
